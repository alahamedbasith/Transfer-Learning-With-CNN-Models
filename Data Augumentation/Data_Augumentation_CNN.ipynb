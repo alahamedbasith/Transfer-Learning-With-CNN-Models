{
 "cells": [
  {
   "cell_type": "code",
   "execution_count": 1,
   "id": "8d96af0e-9cb1-498e-b9a8-314ece8b0e72",
   "metadata": {},
   "outputs": [],
   "source": [
    "from keras.preprocessing.image import ImageDataGenerator"
   ]
  },
  {
   "cell_type": "markdown",
   "id": "3bc25e15-75f8-4748-9a4a-5cb3496752fe",
   "metadata": {},
   "source": [
    "### Commands\n",
    "1. **`rotation_range=40`**:\n",
    "   - **Command**: Rotates the image randomly within the range of 40 degrees.\n",
    "   \n",
    "2. **`width_shift_range=0.2`**:\n",
    "   - **Command**: Shifts the image horizontally by a fraction of the total width. In this case, up to 20% of the width.\n",
    "   \n",
    "3. **`height_shift_range=0.2`**:\n",
    "   - **Command**: Shifts the image vertically by a fraction of the total height. In this case, up to 20% of the height.\n",
    "   \n",
    "4. **`rescale=1./255`**:\n",
    "   - **Command**: Rescales the pixel values to be between 0 and 1 by dividing all pixel values by 255.\n",
    "   \n",
    "5. **`shear_range=0.2`**:\n",
    "   - **Command**: Shears the image randomly within a specified range, which in this case is up to 20 degrees.\n",
    "   \n",
    "6. **`zoom_range=0.2`**:\n",
    "   - **Command**: Zooms in or out on the image randomly within a range of 20%.\n",
    "   \n",
    "7. **`horizontal_flip=True`**:\n",
    "   - **Command**: Flips the image horizontally (left to right) randomly.\n",
    "   \n",
    "8. **`fill_mode='nearest'`**:\n",
    "   - **Command**: Fills in any newly created pixels after transformations using the nearest pixel values in the image."
   ]
  },
  {
   "cell_type": "code",
   "execution_count": 2,
   "id": "866c5121-d24b-4184-92a2-191c4cd3ab8c",
   "metadata": {},
   "outputs": [],
   "source": [
    "image_generation = ImageDataGenerator(\n",
    "    rotation_range = 40,\n",
    "    width_shift_range = 0.2,\n",
    "    height_shift_range = 0.2,\n",
    "    rescale = 1./255,\n",
    "    shear_range=0.2,\n",
    "    zoom_range=0.2,\n",
    "    horizontal_flip=True,\n",
    "    fill_mode='nearest'  \n",
    ")"
   ]
  },
  {
   "cell_type": "code",
   "execution_count": 3,
   "id": "48d9bad2-9a05-4e66-8dc8-f547cf7a3f82",
   "metadata": {},
   "outputs": [],
   "source": [
    "from tensorflow.keras.preprocessing.image import ImageDataGenerator, img_to_array, load_img\n",
    "from tensorflow.keras.utils import array_to_img"
   ]
  },
  {
   "cell_type": "code",
   "execution_count": 5,
   "id": "9c23bd31-0e4b-423d-a023-2962b3fc6589",
   "metadata": {},
   "outputs": [],
   "source": [
    "from tensorflow.keras.preprocessing.image import ImageDataGenerator, img_to_array, load_img\n",
    "from tensorflow.keras.utils import array_to_img\n",
    "\n",
    "datagen = ImageDataGenerator(\n",
    "        rotation_range=40,\n",
    "        width_shift_range=0.2,\n",
    "        height_shift_range=0.2,\n",
    "        shear_range=0.2,\n",
    "        zoom_range=0.2,\n",
    "        horizontal_flip=True,\n",
    "        fill_mode='nearest')\n",
    "\n",
    "img = load_img('photo.png')  # this is a PIL image\n",
    "x = img_to_array(img)  # this is a Numpy array with shape (3, 150, 150)\n",
    "x = x.reshape((1,) + x.shape)  # this is a Numpy array with shape (1, 3, 150, 150)\n",
    "\n",
    "i = 0\n",
    "for batch in datagen.flow(x, batch_size=1,\n",
    "                          save_to_dir='Transformed Images', save_prefix='photo', save_format='jpeg'):\n",
    "    i += 1\n",
    "    if i > 20:\n",
    "        break  # otherwise the generator would loop indefinitely\n"
   ]
  },
  {
   "cell_type": "markdown",
   "id": "df455874-2277-4875-b4d3-eda4edf62191",
   "metadata": {},
   "source": [
    "The line `x = x.reshape((1,) + x.shape)` in your code reshapes the NumPy array `x` by adding an extra dimension at the beginning of its shape. Let's break it down step by step:\n",
    "\n",
    "### 1. Initial Shape of `x`\n",
    "Before the `reshape`, suppose `x` has a shape of `(150, 150, 3)`, where:\n",
    "- `150` is the height of the image.\n",
    "- `150` is the width of the image.\n",
    "- `3` represents the three color channels (Red, Green, Blue).\n",
    "\n",
    "### 2. The Reshape Operation\n",
    "The `reshape` method in NumPy is used to change the shape of an array without changing its data. The operation `(1,) + x.shape` is adding a new dimension at the start of the array’s shape.\n",
    "\n",
    "- **`(1,)`**: This creates a tuple with a single element `1`. The `1` here represents the batch size, meaning we're telling NumPy to treat this array as if it has one image in a batch.\n",
    "- **`+ x.shape`**: This adds the original shape of `x` (which is `(150, 150, 3)`) to the tuple. So, `(1,) + x.shape` becomes `(1, 150, 150, 3)`.\n",
    "\n",
    "### 3. Final Shape\n",
    "After the reshape, `x` will have the shape `(1, 150, 150, 3)`. This new shape indicates that `x` is now considered as a batch of one image, where:\n",
    "- `1` is the batch size (one image in this batch).\n",
    "- `150` is the height of the image.\n",
    "- `150` is the width of the image.\n",
    "- `3` represents the three color channels.\n",
    "\n",
    "### Why Add the Extra Dimension?\n",
    "In deep learning, models typically expect input data in batches, even if you’re only working with a single image. By adding this extra dimension:\n",
    "- The model can handle the input as part of a batch, which is necessary for consistency during both training and inference.\n",
    "- Even though you're working with one image, the batch processing structure remains intact, allowing the model to process data correctly.\n",
    "\n",
    "In summary, this reshaping step prepares your image data so that it can be passed through a neural network model that expects input in the form of batches.\n",
    "\n",
    "Most deep learning models are built to expect inputs with a batch dimension. This means the model's input layer is designed to handle input shapes that include a batch size."
   ]
  },
  {
   "cell_type": "code",
   "execution_count": null,
   "id": "8b022ab8-6f58-4833-90a4-cd8a36268581",
   "metadata": {},
   "outputs": [],
   "source": []
  }
 ],
 "metadata": {
  "kernelspec": {
   "display_name": "Python 3 (ipykernel)",
   "language": "python",
   "name": "python3"
  },
  "language_info": {
   "codemirror_mode": {
    "name": "ipython",
    "version": 3
   },
   "file_extension": ".py",
   "mimetype": "text/x-python",
   "name": "python",
   "nbconvert_exporter": "python",
   "pygments_lexer": "ipython3",
   "version": "3.8.19"
  }
 },
 "nbformat": 4,
 "nbformat_minor": 5
}
